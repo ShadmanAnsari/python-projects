{
 "cells": [
  {
   "cell_type": "code",
   "execution_count": 50,
   "id": "35fbeca6-4956-4d04-b9ed-ad15438c676c",
   "metadata": {},
   "outputs": [],
   "source": [
    "corpus = \"\"\"hello welcome to the krish naik's hindi! ,channel.please do subscribe it.\"\"\""
   ]
  },
  {
   "cell_type": "code",
   "execution_count": 45,
   "id": "acb4d065-af59-471e-867a-b9e2723c46f3",
   "metadata": {},
   "outputs": [],
   "source": [
    "from nltk.tokenize import sent_tokenize"
   ]
  },
  {
   "cell_type": "code",
   "execution_count": 46,
   "id": "e1a5392e-bd50-42a2-aa8e-a7d986f0ae0a",
   "metadata": {},
   "outputs": [],
   "source": [
    "import nltk"
   ]
  },
  {
   "cell_type": "code",
   "execution_count": 47,
   "id": "f5d504de-45ed-47a9-9fd5-1451b3f889d3",
   "metadata": {},
   "outputs": [
    {
     "name": "stderr",
     "output_type": "stream",
     "text": [
      "[nltk_data] Downloading package punkt_tab to\n",
      "[nltk_data]     C:\\Users\\shadm\\AppData\\Roaming\\nltk_data...\n",
      "[nltk_data]   Package punkt_tab is already up-to-date!\n"
     ]
    },
    {
     "data": {
      "text/plain": [
       "True"
      ]
     },
     "execution_count": 47,
     "metadata": {},
     "output_type": "execute_result"
    }
   ],
   "source": [
    "nltk.download('punkt_tab')"
   ]
  },
  {
   "cell_type": "code",
   "execution_count": 51,
   "id": "b6772cf5-a391-4ae7-bc3f-22326beaa6d5",
   "metadata": {},
   "outputs": [
    {
     "data": {
      "text/plain": [
       "[\"hello welcome to the krish naik's hindi!\",\n",
       " ',channel.please do subscribe it.']"
      ]
     },
     "execution_count": 51,
     "metadata": {},
     "output_type": "execute_result"
    }
   ],
   "source": [
    "sent_tokenize(corpus)"
   ]
  },
  {
   "cell_type": "code",
   "execution_count": 52,
   "id": "7df8c9d7-70e2-4f76-8878-eb520a88cccd",
   "metadata": {},
   "outputs": [
    {
     "data": {
      "text/plain": [
       "['hello',\n",
       " 'welcome',\n",
       " 'to',\n",
       " 'the',\n",
       " 'krish',\n",
       " 'naik',\n",
       " \"'s\",\n",
       " 'hindi',\n",
       " '!',\n",
       " ',',\n",
       " 'channel.please',\n",
       " 'do',\n",
       " 'subscribe',\n",
       " 'it',\n",
       " '.']"
      ]
     },
     "execution_count": 52,
     "metadata": {},
     "output_type": "execute_result"
    }
   ],
   "source": [
    "word_tokenize(corpus)"
   ]
  },
  {
   "cell_type": "code",
   "execution_count": 58,
   "id": "d064a2c0-c7a6-43c0-a192-b68950d2da3b",
   "metadata": {},
   "outputs": [
    {
     "ename": "NameError",
     "evalue": "name 'WordPunctTokenizer' is not defined",
     "output_type": "error",
     "traceback": [
      "\u001b[1;31m---------------------------------------------------------------------------\u001b[0m",
      "\u001b[1;31mNameError\u001b[0m                                 Traceback (most recent call last)",
      "Cell \u001b[1;32mIn[58], line 1\u001b[0m\n\u001b[1;32m----> 1\u001b[0m WordPunctTokenizer(corpus)\n",
      "\u001b[1;31mNameError\u001b[0m: name 'WordPunctTokenizer' is not defined"
     ]
    }
   ],
   "source": []
  },
  {
   "cell_type": "code",
   "execution_count": 65,
   "id": "1f9ba86e-c6dc-4f0b-aa7b-0fb48bea0b9d",
   "metadata": {},
   "outputs": [],
   "source": [
    "from nltk.tokenize import WordPunctTokenizer"
   ]
  },
  {
   "cell_type": "code",
   "execution_count": 66,
   "id": "0e6b9cd4-fcc3-4c5a-8e99-a0c0d2039695",
   "metadata": {},
   "outputs": [],
   "source": [
    "tk = WordPunctTokenizer()"
   ]
  },
  {
   "cell_type": "code",
   "execution_count": 69,
   "id": "b10bc46f-8b91-44f8-a3b1-1438632d602a",
   "metadata": {},
   "outputs": [
    {
     "data": {
      "text/plain": [
       "['hello',\n",
       " 'welcome',\n",
       " 'to',\n",
       " 'the',\n",
       " 'krish',\n",
       " 'naik',\n",
       " \"'\",\n",
       " 's',\n",
       " 'hindi',\n",
       " '!',\n",
       " ',',\n",
       " 'channel',\n",
       " '.',\n",
       " 'please',\n",
       " 'do',\n",
       " 'subscribe',\n",
       " 'it',\n",
       " '.']"
      ]
     },
     "execution_count": 69,
     "metadata": {},
     "output_type": "execute_result"
    }
   ],
   "source": [
    "geek = tk.tokenize(corpus)\n",
    "geek"
   ]
  },
  {
   "cell_type": "code",
   "execution_count": 71,
   "id": "fe2e4c9d-d238-4238-b67e-08503ff5ce90",
   "metadata": {},
   "outputs": [],
   "source": [
    "from nltk.stem import PorterStemmer\n"
   ]
  },
  {
   "cell_type": "code",
   "execution_count": 74,
   "id": "784ae320-d622-4f7a-a8af-a03def6ad90e",
   "metadata": {},
   "outputs": [],
   "source": [
    "st=PorterStemmer()"
   ]
  },
  {
   "cell_type": "code",
   "execution_count": 73,
   "id": "3c66627c-1de6-4407-b51b-46ce257a1b53",
   "metadata": {},
   "outputs": [],
   "source": [
    "words = [\"eating\",\"eats\",\"dividing\",\"understanding\",\"history\",\"congratulations\"]"
   ]
  },
  {
   "cell_type": "code",
   "execution_count": 77,
   "id": "8bee7a6e-2c84-41d1-904a-80964c4b9168",
   "metadata": {},
   "outputs": [
    {
     "name": "stdout",
     "output_type": "stream",
     "text": [
      "eating---->eat\n",
      "eats---->eat\n",
      "dividing---->divid\n",
      "understanding---->understand\n",
      "history---->histori\n",
      "congratulations---->congratul\n"
     ]
    }
   ],
   "source": [
    "for word in words :\n",
    "    print(word +\"---->\"+st.stem(word))"
   ]
  },
  {
   "cell_type": "code",
   "execution_count": 79,
   "id": "488a100e-b4ab-46c5-9a4a-04c47b988856",
   "metadata": {},
   "outputs": [
    {
     "data": {
      "text/plain": [
       "'sit'"
      ]
     },
     "execution_count": 79,
     "metadata": {},
     "output_type": "execute_result"
    }
   ],
   "source": [
    "st.stem(\"sitting\")"
   ]
  },
  {
   "cell_type": "code",
   "execution_count": 80,
   "id": "418f0185-dda4-4f05-a9c7-f06e8e1ba774",
   "metadata": {},
   "outputs": [],
   "source": [
    "from nltk.stem import LancasterStemmer"
   ]
  },
  {
   "cell_type": "code",
   "execution_count": 84,
   "id": "acbbb596-0e9d-412c-a5e6-75ad26524c7c",
   "metadata": {},
   "outputs": [],
   "source": [
    "ln=LancasterStemmer()"
   ]
  },
  {
   "cell_type": "code",
   "execution_count": 85,
   "id": "6f949272-b616-4641-a9d5-9ebbcf3f0e58",
   "metadata": {},
   "outputs": [
    {
     "name": "stdout",
     "output_type": "stream",
     "text": [
      "eating---->eat\n",
      "eats---->eat\n",
      "dividing---->divid\n",
      "understanding---->understand\n",
      "history---->hist\n",
      "congratulations---->congrat\n"
     ]
    }
   ],
   "source": [
    "for word in words:\n",
    "    print(word +\"---->\"+ln.stem(word))\n",
    "    "
   ]
  },
  {
   "cell_type": "code",
   "execution_count": 87,
   "id": "3b418058-6869-41cc-ab4c-5c427d1b9e36",
   "metadata": {},
   "outputs": [],
   "source": [
    "from nltk.stem import RegexpStemmer"
   ]
  },
  {
   "cell_type": "code",
   "execution_count": 92,
   "id": "cf890cd3-8b3d-47db-9e4b-a4705b14af58",
   "metadata": {},
   "outputs": [],
   "source": [
    "rg=RegexpStemmer(\"ing|s\",min = 2)"
   ]
  },
  {
   "cell_type": "code",
   "execution_count": 91,
   "id": "9cd6962e-3365-46b8-8ea1-b8fbeefc4bd1",
   "metadata": {},
   "outputs": [
    {
     "data": {
      "text/plain": [
       "'eat'"
      ]
     },
     "execution_count": 91,
     "metadata": {},
     "output_type": "execute_result"
    }
   ],
   "source": [
    "rg.stem(\"eats\")"
   ]
  },
  {
   "cell_type": "code",
   "execution_count": 93,
   "id": "0089b432-9cbc-4239-8cb6-0e4be932c5cd",
   "metadata": {},
   "outputs": [
    {
     "data": {
      "text/plain": [
       "'play'"
      ]
     },
     "execution_count": 93,
     "metadata": {},
     "output_type": "execute_result"
    }
   ],
   "source": [
    "rg.stem(\"ingplaying\")"
   ]
  },
  {
   "cell_type": "code",
   "execution_count": 95,
   "id": "55ec458d-5a35-455a-8b04-317fbfe23187",
   "metadata": {},
   "outputs": [],
   "source": [
    "from nltk.stem import SnowballStemmer"
   ]
  },
  {
   "cell_type": "code",
   "execution_count": 97,
   "id": "90f1a9ea-50b8-4560-a88e-6ff52e8d72bf",
   "metadata": {},
   "outputs": [],
   "source": [
    "sn= SnowballStemmer('english')"
   ]
  },
  {
   "cell_type": "code",
   "execution_count": 98,
   "id": "b26b9e01-7105-4537-ab75-34cc722e8395",
   "metadata": {},
   "outputs": [
    {
     "data": {
      "text/plain": [
       "'fair'"
      ]
     },
     "execution_count": 98,
     "metadata": {},
     "output_type": "execute_result"
    }
   ],
   "source": [
    "sn.stem('fairly')"
   ]
  },
  {
   "cell_type": "code",
   "execution_count": 99,
   "id": "925c7000-d891-4e73-876f-ca5033f2d048",
   "metadata": {},
   "outputs": [
    {
     "data": {
      "text/plain": [
       "'fairli'"
      ]
     },
     "execution_count": 99,
     "metadata": {},
     "output_type": "execute_result"
    }
   ],
   "source": [
    "st.stem('fairly')"
   ]
  },
  {
   "cell_type": "code",
   "execution_count": 105,
   "id": "b4ecb289-a653-4139-b5fd-ea832875b8d8",
   "metadata": {},
   "outputs": [
    {
     "name": "stderr",
     "output_type": "stream",
     "text": [
      "[nltk_data] Downloading package wordnet to\n",
      "[nltk_data]     C:\\Users\\shadm\\AppData\\Roaming\\nltk_data...\n"
     ]
    },
    {
     "data": {
      "text/plain": [
       "True"
      ]
     },
     "execution_count": 105,
     "metadata": {},
     "output_type": "execute_result"
    }
   ],
   "source": [
    "nltk.download('wordnet')"
   ]
  },
  {
   "cell_type": "code",
   "execution_count": 106,
   "id": "bf6e5d97-9fb1-4986-b0f3-27332fad38d3",
   "metadata": {},
   "outputs": [],
   "source": [
    "from nltk.stem import WordNetLemmatizer"
   ]
  },
  {
   "cell_type": "code",
   "execution_count": 107,
   "id": "7983beff-96e4-4533-b7fe-6adb5fa4f7be",
   "metadata": {},
   "outputs": [],
   "source": [
    "lm=WordNetLemmatizer()"
   ]
  },
  {
   "cell_type": "code",
   "execution_count": 109,
   "id": "fd7fd39c-80f7-4226-bc1d-6164cdc840d0",
   "metadata": {},
   "outputs": [
    {
     "name": "stdout",
     "output_type": "stream",
     "text": [
      "eating----->eat\n",
      "eats----->eat\n",
      "dividing----->divide\n",
      "understanding----->understand\n",
      "history----->history\n",
      "congratulations----->congratulations\n"
     ]
    }
   ],
   "source": [
    "for word in words:\n",
    "    print(word+\"----->\"+ lm.lemmatize(word,pos='v'))"
   ]
  },
  {
   "cell_type": "code",
   "execution_count": null,
   "id": "260a950d-fcc6-4a9e-b2c9-7903f3b331cd",
   "metadata": {},
   "outputs": [],
   "source": []
  }
 ],
 "metadata": {
  "kernelspec": {
   "display_name": "Python 3 (ipykernel)",
   "language": "python",
   "name": "python3"
  },
  "language_info": {
   "codemirror_mode": {
    "name": "ipython",
    "version": 3
   },
   "file_extension": ".py",
   "mimetype": "text/x-python",
   "name": "python",
   "nbconvert_exporter": "python",
   "pygments_lexer": "ipython3",
   "version": "3.12.7"
  }
 },
 "nbformat": 4,
 "nbformat_minor": 5
}
